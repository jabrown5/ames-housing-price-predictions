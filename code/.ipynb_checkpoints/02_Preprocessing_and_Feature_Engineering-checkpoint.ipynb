{
 "cells": [
  {
   "cell_type": "markdown",
   "metadata": {},
   "source": [
    "### Preprocessing and Feature Engineering"
   ]
  },
  {
   "cell_type": "code",
   "execution_count": null,
   "metadata": {},
   "outputs": [],
   "source": []
  },
  {
   "cell_type": "code",
   "execution_count": null,
   "metadata": {},
   "outputs": [],
   "source": []
  },
  {
   "cell_type": "code",
   "execution_count": null,
   "metadata": {},
   "outputs": [],
   "source": [
    "# Creating a function to apply same changes to TRAIN and TEST datasets\n",
    "def scale_columns(dataset):\n",
    "    # Mapping some ordinal values to numeric instead of text\n",
    "    dataset['Exter Qual'] = dataset['Exter Qual'].map({'Po':1,'Fa':2,'TA':3,'Gd':4,'Ex':5})\n",
    "    dataset['Exter Cond'] = dataset['Exter Cond'].map({'Po':1,'Fa':2,'TA':3,'Gd':4,'Ex':5})\n",
    "    dataset['Bsmt Qual'] = dataset['Bsmt Qual'].map({'NA':0,'Po':1,'Fa':2,'TA':3,'Gd':4,'Ex':5})\n",
    "    dataset['Bsmt Cond'] = dataset['Bsmt Cond'].map({'NA':0,'Po':1,'Fa':2,'TA':3,'Gd':4,'Ex':5})\n",
    "    dataset['BsmtFin Type 1'] = dataset['BsmtFin Type 1'].map({'NA':0,'Unf':1,'LwQ':2,'Rec':3,'BLQ':4,'ALQ':5,'GLQ':6})\n",
    "    dataset['Heating QC'] = dataset['Heating QC'].map({'Po':1,'Fa':2,'TA':3,'Gd':4,'Ex':5})\n",
    "    dataset['Central Air'] = dataset['Central Air'].map({'N':0,'Y':1})\n",
    "    dataset['Kitchen Qual'] = dataset['Kitchen Qual'].map({'Po':1,'Fa':2,'TA':3,'Gd':4,'Ex':5})\n",
    "    dataset['Garage Qual'] = dataset['Garage Qual'].map({'NA':0,'Po':1,'Fa':2,'TA':3,'Gd':4,'Ex':5})\n",
    "    dataset['Garage Cond'] = dataset['Garage Cond'].map({'NA':0,'Po':1,'Fa':2,'TA':3,'Gd':4,'Ex':5})\n",
    "    # Fill NaN's w/ 0\n",
    "    dataset.fillna(0, inplace=True)\n",
    "    # Creating Age variables\n",
    "    dataset['Age'] = dataset['Yr Sold'] - dataset['Year Built']\n",
    "    dataset['Age_Remod'] = dataset['Yr Sold'] - dataset['Year Remod/Add']"
   ]
  },
  {
   "cell_type": "code",
   "execution_count": null,
   "metadata": {},
   "outputs": [],
   "source": []
  },
  {
   "cell_type": "code",
   "execution_count": null,
   "metadata": {},
   "outputs": [],
   "source": []
  },
  {
   "cell_type": "code",
   "execution_count": null,
   "metadata": {},
   "outputs": [],
   "source": [
    "# Save the final file for use in 03_Model_Benchmarks"
   ]
  }
 ],
 "metadata": {
  "kernelspec": {
   "display_name": "Python 3",
   "language": "python",
   "name": "python3"
  },
  "language_info": {
   "codemirror_mode": {
    "name": "ipython",
    "version": 3
   },
   "file_extension": ".py",
   "mimetype": "text/x-python",
   "name": "python",
   "nbconvert_exporter": "python",
   "pygments_lexer": "ipython3",
   "version": "3.8.5"
  }
 },
 "nbformat": 4,
 "nbformat_minor": 5
}
